{
 "cells": [
  {
   "cell_type": "markdown",
   "id": "98df2986",
   "metadata": {},
   "source": [
    "# Optimizing the CBCT calibration using "
   ]
  },
  {
   "cell_type": "markdown",
   "id": "edfa7034",
   "metadata": {},
   "source": [
    "## Import packages"
   ]
  },
  {
   "cell_type": "code",
   "execution_count": null,
   "id": "5ee83d41",
   "metadata": {},
   "outputs": [],
   "source": [
    "import numpy as np\n",
    "from skimage.filters import median\n",
    "import seaborn as sns\n",
    "import matplotlib.pyplot as plt\n",
    "from matplotlib.patches import Rectangle\n",
    "from skimage.io import imread\n",
    "import subprocess\n",
    "import json\n",
    "import sys\n",
    "import argparse\n",
    "import numpy as np\n",
    "from scipy.optimize import minimize\n",
    "%matplotlib inline\n",
    "\n",
    "import sys\n",
    "sys.path.append('/Users/kaestner/git/scripts/python/')\n",
    "import amglib.readers as rd"
   ]
  },
  {
   "cell_type": "markdown",
   "id": "e5fe759c",
   "metadata": {},
   "source": [
    "## Set paths"
   ]
  },
  {
   "cell_type": "code",
   "execution_count": null,
   "id": "22259e15",
   "metadata": {},
   "outputs": [],
   "source": [
    "muhpath  = \"/Users/kaestner/git/build-imagingsuite/Release/MuhRec.app/Contents/MacOS/MuhRec\" \n",
    "datapath = \"/Users/Shared/Data/P20170229_Snehota/\"\n",
    "recon_config = \"/Users/Shared/Data/P20240126_1_DinoCalibration/02_rawdata/\""
   ]
  },
  {
   "cell_type": "markdown",
   "id": "2df41498",
   "metadata": {},
   "source": [
    "## Data loader"
   ]
  },
  {
   "cell_type": "code",
   "execution_count": null,
   "id": "3280f3d4",
   "metadata": {},
   "outputs": [],
   "source": [
    "def get_recon(mask, first, last) :\n",
    "    return rd.read_images(mask, first=first,last=last)"
   ]
  },
  {
   "cell_type": "markdown",
   "id": "a04cdefb",
   "metadata": {},
   "source": [
    "## Define cost functions"
   ]
  },
  {
   "cell_type": "code",
   "execution_count": null,
   "id": "21318f7f",
   "metadata": {},
   "outputs": [],
   "source": [
    "def total_variation(img) :\n",
    "    grad_x, grad_y, grad_z = np.gradient(img)\n",
    "\n",
    "# Compute the absolute gradient (magnitude of gradient vector at each point)\n",
    "    return np.sqrt(grad_x**2 + grad_y**2 + grad_z**2).mean()\n",
    "\n",
    "def std_dev(img) :\n",
    "    return np.std(img)\n",
    "\n",
    "def gradient_entropy(img, bins=100):\n",
    "    gx, gy, gz = np.gradient(img)\n",
    "    mag = np.sqrt(gx**2 + gy**2 + gz**2)\n",
    "    hist, _ = np.histogram(mag, bins=bins, density=True)\n",
    "    p = hist[hist > 0]\n",
    "    return -np.sum(p * np.log(p))\n",
    "\n"
   ]
  },
  {
   "cell_type": "code",
   "execution_count": null,
   "id": "2182abf0",
   "metadata": {},
   "outputs": [],
   "source": [
    "img = get_recon(datapath+\"04_evaluation/optruns/objects_{0:04d}.tif\",first=300,last=331)"
   ]
  },
  {
   "cell_type": "code",
   "execution_count": null,
   "id": "9e902660",
   "metadata": {},
   "outputs": [],
   "source": [
    "print(total_variation(img), std_dev(img))"
   ]
  },
  {
   "cell_type": "markdown",
   "id": "1a92193b",
   "metadata": {},
   "source": [
    "## Recon runner"
   ]
  },
  {
   "cell_type": "code",
   "execution_count": null,
   "id": "5c4015a6",
   "metadata": {},
   "outputs": [],
   "source": [
    "def recon_runner(muhrec_path, config, pars):\n",
    "    call_info = [muhrec_path, \"-f\", config]\n",
    "#     call_info.append(f'projections:center={pars[\"projections:center\"]}')\n",
    "#     call_info.append(f'projections:tiltangle={pars[\"projections:tiltangle\"]}')\n",
    "    call_info.append(f'projections:sod={pars[\"projections:sod\"]}')\n",
    "    call_info.append(f'projections:sdd={pars[\"projections:sdd\"]}')\n",
    "#     call_info.append(f'projections:pPoint={pars[\"projections:pPointx\"]} {pars[\"projections:pPointy\"]}')\n",
    "      \n",
    "    print(\"Calling muhrec with arguments:\")\n",
    "    for arg in call_info:\n",
    "        print(arg)\n",
    "        \n",
    "    try:\n",
    "        result = subprocess.call(call_info)\n",
    "    except subprocess.CalledProcessError as e:\n",
    "        print(\"Error Occurred:\", e)"
   ]
  },
  {
   "cell_type": "code",
   "execution_count": null,
   "id": "d13b4efb",
   "metadata": {
    "scrolled": false
   },
   "outputs": [],
   "source": [
    "pars= {\n",
    "    \"projections:center\": 730.781,\n",
    "    \"projections:tiltangle\": 0.2127,\n",
    "    \"projections:sod\": 193,\n",
    "    \"projections:sdd\": 770,\n",
    "    \"projections:pPointx\": 1100,\n",
    "    \"projections:pPointy\": 750\n",
    "}\n",
    "recon_runner(muhpath,config=datapath+\"04_evaluation/ReconConfig_Initial.xml\",pars=pars)\n",
    "\n",
    "img = get_recon(datapath+\"04_evaluation/optruns/objects_{0:04d}.tif\",first=300,last=331)\n",
    "print(total_variation(img), std_dev(img))"
   ]
  },
  {
   "cell_type": "code",
   "execution_count": null,
   "id": "f19a271f",
   "metadata": {
    "scrolled": true
   },
   "outputs": [],
   "source": [
    "import numpy as np\n",
    "from scipy.optimize import minimize\n",
    "\n",
    "# Initial parameters (only numeric ones for optimization)\n",
    "pars= {\n",
    "#    \"projections:center\": 730.781,\n",
    "#     \"projections:tiltangle\": 0.2127,\n",
    "#    \"projections:sod\": 193,\n",
    "#    \"projections:sdd\": 770\n",
    "#     \"projections:pPointx\": 1100,\n",
    "     \"projections:pPointy\": 750\n",
    "}\n",
    "\n",
    "initial_pars = pars.copy()\n",
    "fixed_pars = {}\n",
    "\n",
    "bounds = [\n",
    "#     (728, 733),     # bounds for projections:center\n",
    "#     (-0.2, 0.2),     # projections:tiltangle\n",
    "#     (150, 300),    # projections:sod\n",
    "#     (600, 900),    # projections:sdd\n",
    "#     (800, 1400),      # projections:pPointx\n",
    "    (700, 800),    # projections:pPointy\n",
    "]\n",
    "\n",
    "# Paths\n",
    "config_path = datapath + \"04_evaluation/ReconConfig_Initial.xml\"\n",
    "recon_path_pattern = datapath + \"04_evaluation/optruns/objects_{0:04d}.tif\"\n",
    "\n",
    "# Flatten\n",
    "def dict_to_array(d): return np.array(list(d.values()))\n",
    "def array_to_dict(arr, template): return {k: v for k, v in zip(template.keys(), arr)}\n",
    "\n",
    "\n",
    "\n",
    "# Cost function: Run recon, load image, evaluate cost\n",
    "def cost_function(arr):\n",
    "    numeric_pars = array_to_dict(arr, initial_pars)\n",
    "    all_pars = {**numeric_pars, **fixed_pars}\n",
    "\n",
    "    recon_runner(muhpath, config=config_path, pars=all_pars)\n",
    "    img = get_recon(recon_path_pattern, first=300, last=331)\n",
    "    history[\"losses\"].append(total_variation(img))\n",
    "    history[\"frames\"].append(img[img.shape[0]//2])\n",
    "    history[\"pars\"].append(numeric_pars)\n",
    "    return losses[-1]  # or use another metric, e.g., std_dev(img)\n",
    "\n",
    "def CBCT_optimizer(initial_pars, method, maxiter=5) :\n",
    "    # Optimization\n",
    "    x0 = dict_to_array(initial_pars)\n",
    "\n",
    "    # \"Nelder-Mead\"\n",
    "    # 'L-BFGS-B'\n",
    "    # result = minimize(cost_function, x0, method='L-BFGS-B', bounds=bounds, options={\"maxiter\" :5})\n",
    "    history ={ \"losses\" : [], \"frames\" :[], \"pars\" : []}\n",
    "    result = minimize(cost_function, x0, method='Nelder-Mead', bounds=bounds, options={\"maxiter\" :5})\n",
    "\n",
    "    # Final optimized parameter set\n",
    "    optimized_pars = {**array_to_dict(result.x, initial_pars), **fixed_pars}\n",
    "    print(\"Optimized Parameters:\", optimized_pars)\n",
    "    \n"
   ]
  },
  {
   "cell_type": "code",
   "execution_count": null,
   "id": "1856155a",
   "metadata": {},
   "outputs": [],
   "source": [
    "x0 = dict_to_array(initial_pars)\n",
    "print(x0)"
   ]
  },
  {
   "cell_type": "code",
   "execution_count": null,
   "id": "238e56cb",
   "metadata": {},
   "outputs": [],
   "source": [
    "result.x"
   ]
  },
  {
   "cell_type": "code",
   "execution_count": null,
   "id": "7ce3644f",
   "metadata": {},
   "outputs": [],
   "source": [
    "optimized_pars"
   ]
  },
  {
   "cell_type": "code",
   "execution_count": null,
   "id": "552af161",
   "metadata": {},
   "outputs": [],
   "source": [
    "plt.plot(history['losses'])"
   ]
  },
  {
   "cell_type": "code",
   "execution_count": null,
   "id": "5ef1b6f1",
   "metadata": {},
   "outputs": [],
   "source": [
    "history['pars']"
   ]
  },
  {
   "cell_type": "code",
   "execution_count": null,
   "id": "f4b573cb",
   "metadata": {},
   "outputs": [],
   "source": [
    "plt.imshow(history['frames'][0]-history['frames'][-1])"
   ]
  },
  {
   "cell_type": "code",
   "execution_count": null,
   "id": "12f4ae2c",
   "metadata": {},
   "outputs": [],
   "source": [
    "fig,ax = plt.subplots(1,3,figsize=[15,5])\n",
    "\n",
    "ax[0].imshow(history['frames'][0])\n",
    "ax[1].imshow(history['frames'][-1])\n",
    "ax[2].hist(history['frames'][0].ravel(),bins=200,label='initial');\n",
    "ax[2].hist(history['frames'][-1].ravel(),bins=200,label='final');"
   ]
  },
  {
   "cell_type": "code",
   "execution_count": null,
   "id": "43255d64",
   "metadata": {},
   "outputs": [],
   "source": [
    "plt.plot(history['pars']['projections:sod'])"
   ]
  },
  {
   "cell_type": "code",
   "execution_count": null,
   "id": "14c8803b",
   "metadata": {},
   "outputs": [],
   "source": [
    "sod = []\n",
    "sdd = []\n",
    "\n",
    "for pars in history['pars'] :\n",
    "    sod.append(pars['projections:sod'])\n",
    "    sdd.append(pars['projections:sdd'])"
   ]
  },
  {
   "cell_type": "code",
   "execution_count": null,
   "id": "e0ff0123",
   "metadata": {},
   "outputs": [],
   "source": [
    "plt.plot(sod)\n",
    "plt.plot(sdd)"
   ]
  },
  {
   "cell_type": "code",
   "execution_count": null,
   "id": "1f43f05d",
   "metadata": {},
   "outputs": [],
   "source": []
  }
 ],
 "metadata": {
  "kernelspec": {
   "display_name": "Python 3 (ipykernel)",
   "language": "python",
   "name": "python3"
  },
  "language_info": {
   "codemirror_mode": {
    "name": "ipython",
    "version": 3
   },
   "file_extension": ".py",
   "mimetype": "text/x-python",
   "name": "python",
   "nbconvert_exporter": "python",
   "pygments_lexer": "ipython3",
   "version": "3.9.21"
  }
 },
 "nbformat": 4,
 "nbformat_minor": 5
}
