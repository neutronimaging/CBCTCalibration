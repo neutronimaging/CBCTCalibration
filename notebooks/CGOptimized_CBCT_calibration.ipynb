{
 "cells": [
  {
   "cell_type": "markdown",
   "id": "95cd78c0-1e29-4e8f-afaa-3ac8b4e020e6",
   "metadata": {},
   "source": [
    "# Optimize CBCT parameters through CG with reconstructions"
   ]
  },
  {
   "cell_type": "code",
   "execution_count": null,
   "id": "1dfed926-c1c1-43d7-b552-510f2df8e454",
   "metadata": {},
   "outputs": [],
   "source": []
  },
  {
   "cell_type": "code",
   "execution_count": 7,
   "id": "e404d9f7-326e-4c7a-b5ab-c6648e937a38",
   "metadata": {},
   "outputs": [],
   "source": [
    "import numpy as np\n",
    "from scipy.optimize import minimize\n",
    "from skimage.filters import sobel\n",
    "from skimage.morphology import disk\n",
    "from skimage import exposure"
   ]
  },
  {
   "cell_type": "code",
   "execution_count": 11,
   "id": "a23c724a-fd50-42cb-b7a2-c544f4fa2de7",
   "metadata": {},
   "outputs": [
    {
     "ename": "ImportError",
     "evalue": "dlopen(/Users/kaestner/git/build-imagingsuite/Release/lib/muhrectomo.cpython-39-darwin.so, 0x0002): Library not loaded: @rpath/libStdBackProjectors.dylib\n  Referenced from: <E849F2D4-C317-366D-B787-8DC6A4643756> /Users/kaestner/git/build-imagingsuite/Release/lib/muhrectomo.cpython-39-darwin.so\n  Reason: tried: '/Users/kaestner/git/build-imagingsuite/Release/lib/../Frameworks/libStdBackProjectors.dylib' (no such file), '/Users/kaestner/git/build-imagingsuite/Release/lib/../../../lib/libStdBackProjectors.dylib' (no such file), '/Users/kaestner/git/build-imagingsuite/Release/lib/lib/libStdBackProjectors.dylib' (no such file), '/Users/kaestner/git/build-imagingsuite/Release/lib/libStdBackProjectors.dylib' (no such file), '/Users/kaestner/.conan2/p/pybin6c4510a89d30a/p/lib/libStdBackProjectors.dylib' (no such file), '/System/Volumes/Preboot/Cryptexes/OS/Users/kaestner/.conan2/p/pybin6c4510a89d30a/p/lib/libStdBackProjectors.dylib' (no such file), '/Users/kaestner/.conan2/p/b/libxmb6125ae288aa0/p/lib/libStdBackProjectors.dylib' (no such file), '/System/Volumes/Preboot/Cryptexes/OS/Users/kaestner/.conan2/p/b/libxmb6125ae288aa0/p/lib/libStdBackProjectors.dylib' (no such file), '/Users/kaestner/.conan2/p/b/libicce91bac430fa1/p/lib/libStdBackProjectors.dylib' (no such file), '/System/Volumes/Preboot/Cryptexes/OS/Users/kaestner/.conan2/p/b/libicce91bac430fa1/p/lib/libStdBackProjectors.dylib' (no such file), '/Users/kaestner/.conan2/p/b/zlibab3b77d61fd69/p/lib/libStdBackProjectors.dylib' (no such file), '/System/Volumes/Preboot/Cryptexes/OS/Users/kaestner/.conan2/p/b/zlibab3b77d61fd69/p/lib/libStdBackProjectors.dylib' (no such file), '/Users/kaestner/.conan2/p/b/libti9147cfaff8d04/p/lib/libStdBackProjectors.dylib' (no such file), '/System/Volumes/Preboot/Cryptexes/OS/Users/kaestner/.conan2/p/b/libti9147cfaff8d04/p/lib/libStdBackProjectors.dylib' (no such file), '/Users/kaestner/.conan2/p/b/libde8f35625a3a4a2/p/lib/libStdBackProjectors.dylib' (no such file), '/System/Volumes/Preboot/Cryptexes/OS/Users/kaestner/.conan2/p/b/libde8f35625a3a4a2/p/lib/libStdBackProjectors.dylib' (no such file), '/Users/kaestner/.conan2/p/b/xz_ut951443aeb046c/p/lib/libStdBackProjectors.dylib' (no such file), '/System/Volumes/Preboot/Cryptexes/OS/Users/kaestner/.conan2/p/b/xz_ut951443aeb046c/p/lib/libStdBackProjectors.dylib' (no such file), '/Users/kaestner/.conan2/p/b/libjp31743880a0723/p/lib/libStdBackProjectors.dylib' (no such file), '/System/Volumes/Preboot/Cryptexes/OS/Users/kaestner/.conan2/p/b/libjp31743880a0723/p/lib/libStdBackProjectors.dylib' (no such file), '/Users/kaestner/.conan2/p/b/jbig9d6dfeb18fd4b/p/lib/libStdBackProjectors.dylib' (no such file), '/System/Volumes/Preboot/Cryptexes/OS/Users/kaestner/.conan2/p/b/jbig9d6dfeb18fd4b/p/lib/libStdBackProjectors.dylib' (no such file), '/Users/kaestner/.conan2/p/b/zstd372bcbc6172d2/p/lib/libStdBackProjectors.dylib' (no such file), '/System/Volumes/Preboot/Cryptexes/OS/Users/kaestner/.conan2/p/b/zstd372bcbc6172d2/p/lib/libStdBackProjectors.dylib' (no such file), '/Users/kaestner/.conan2/p/b/libwe239f873bc36d3/p/lib/libStdBackProjectors.dylib' (no such file), '/System/Volumes/Preboot/Cryptexes/OS/Users/kaestner/.conan2/p/b/libwe239f873bc36d3/p/lib/libStdBackProjectors.dylib' (no such file), '/Users/kaestner/.conan2/p/b/cfitsd76dc31899c23/p/lib/libStdBackProjectors.dylib' (no such file), '/System/Volumes/Preboot/Cryptexes/OS/Users/kaestner/.conan2/p/b/cfitsd76dc31899c23/p/lib/libStdBackProjectors.dylib' (no such file), '/Users/kaestner/.conan2/p/b/openbcc66117734d8d/p/lib/libStdBackProjectors.dylib' (no such file), '/System/Volumes/Preboot/Cryptexes/OS/Users/kaestner/.conan2/p/b/openbcc66117734d8d/p/lib/libStdBackProjectors.dylib' (no such file), '/Users/kaestner/.conan2/p/b/armadab4c91a072850/p/lib/libStdBackProjectors.dylib' (no such file), '/System/Volumes/Preboot/Cryptexes/OS/Users/kaestner/.conan2/p/b/armadab4c91a072850/p/lib/libStdBackProjectors.dylib' (no such file), '/Users/kaestner/.conan2/p/b/fftwfe6ad5903edd4/p/lib/libStdBackProjectors.dylib' (no such file), '/System/Volumes/Preboot/Cryptexes/OS/Users/kaestner/.conan2/p/b/fftwfe6ad5903edd4/p/lib/libStdBackProjectors.dylib' (no such file), '/Users/kaestner/git/build-imagingsuite/Release/lib/../Frameworks/libStdBackProjectors.dylib' (no such file), '/Users/kaestner/git/build-imagingsuite/Release/lib/../../../lib/libStdBackProjectors.dylib' (no such file), '/Users/kaestner/git/build-imagingsuite/Release/lib/lib/libStdBackProjectors.dylib' (no such file), '/Users/kaestner/git/build-imagingsuite/Release/lib/libStdBackProjectors.dylib' (no such file), '/Users/kaestner/.conan2/p/pybin6c4510a89d30a/p/lib/libStdBackProjectors.dylib' (no such file), '/System/Volumes/Preboot/Cryptexes/OS/Users/kaestner/.conan2/p/pybin6c4510a89d30a/p/lib/libStdBackProjectors.dylib' (no such file), '/Users/kaestner/.conan2/p/b/libxmb6125ae288aa0/p/lib/libStdBackProjectors.dylib' (no such file), '/System/Volumes/Preboot/Cryptexes/OS/Users/kaestner/.conan2/p/b/libxmb6125ae288aa0/p/lib/libStdBackProjectors.dylib' (no such file), '/Users/kaestner/.conan2/p/b/libicce91bac430fa1/p/lib/libStdBackProjectors.dylib' (no such file), '/System/Volumes/Preboot/Cryptexes/OS/Users/kaestner/.conan2/p/b/libicce91bac430fa1/p/lib/libStdBackProjectors.dylib' (no such file), '/Users/kaestner/.conan2/p/b/zlibab3b77d61fd69/p/lib/libStdBackProjectors.dylib' (no such file), '/System/Volumes/Preboot/Cryptexes/OS/Users/kaestner/.conan2/p/b/zlibab3b77d61fd69/p/lib/libStdBackProjectors.dylib' (no such file), '/Users/kaestner/.conan2/p/b/libti9147cfaff8d04/p/lib/libStdBackProjectors.dylib' (no such file), '/System/Volumes/Preboot/Cryptexes/OS/Users/kaestner/.conan2/p/b/libti9147cfaff8d04/p/lib/libStdBackProjectors.dylib' (no such file), '/Users/kaestner/.conan2/p/b/libde8f35625a3a4a2/p/lib/libStdBackProjectors.dylib' (no such file), '/System/Volumes/Preboot/Cryptexes/OS/Users/kaestner/.conan2/p/b/libde8f35625a3a4a2/p/lib/libStdBackProjectors.dylib' (no such file), '/Users/kaestner/.conan2/p/b/xz_ut951443aeb046c/p/lib/libStdBackProjectors.dylib' (no such file), '/System/Volumes/Preboot/Cryptexes/OS/Users/kaestner/.conan2/p/b/xz_ut951443aeb046c/p/lib/libStdBackProjectors.dylib' (no such file), '/Users/kaestner/.conan2/p/b/libjp31743880a0723/p/lib/libStdBackProjectors.dylib' (no such file), '/System/Volumes/Preboot/Cryptexes/OS/Users/kaestner/.conan2/p/b/libjp31743880a0723/p/lib/libStdBackProjectors.dylib' (no such file), '/Users/kaestner/.conan2/p/b/jbig9d6dfeb18fd4b/p/lib/libStdBackProjectors.dylib' (no such file), '/System/Volumes/Preboot/Cryptexes/OS/Users/kaestner/.conan2/p/b/jbig9d6dfeb18fd4b/p/lib/libStdBackProjectors.dylib' (no such file), '/Users/kaestner/.conan2/p/b/zstd372bcbc6172d2/p/lib/libStdBackProjectors.dylib' (no such file), '/System/Volumes/Preboot/Cryptexes/OS/Users/kaestner/.conan2/p/b/zstd372bcbc6172d2/p/lib/libStdBackProjectors.dylib' (no such file), '/Users/kaestner/.conan2/p/b/libwe239f873bc36d3/p/lib/libStdBackProjectors.dylib' (no such file), '/System/Volumes/Preboot/Cryptexes/OS/Users/kaestner/.conan2/p/b/libwe239f873bc36d3/p/lib/libStdBackProjectors.dylib' (no such file), '/Users/kaestner/.conan2/p/b/cfitsd76dc31899c23/p/lib/libStdBackProjectors.dylib' (no such file), '/System/Volumes/Preboot/Cryptexes/OS/Users/kaestner/.conan2/p/b/cfitsd76dc31899c23/p/lib/libStdBackProjectors.dylib' (no such file), '/Users/kaestner/.conan2/p/b/openbcc66117734d8d/p/lib/libStdBackProjectors.dylib' (no such file), '/System/Volumes/Preboot/Cryptexes/OS/Users/kaestner/.conan2/p/b/openbcc66117734d8d/p/lib/libStdBackProjectors.dylib' (no such file), '/Users/kaestner/.conan2/p/b/armadab4c91a072850/p/lib/libStdBackProjectors.dylib' (no such file), '/System/Volumes/Preboot/Cryptexes/OS/Users/kaestner/.conan2/p/b/armadab4c91a072850/p/lib/libStdBackProjectors.dylib' (no such file), '/Users/kaestner/.conan2/p/b/fftwfe6ad5903edd4/p/lib/libStdBackProjectors.dylib' (no such file), '/System/Volumes/Preboot/Cryptexes/OS/Users/kaestner/.conan2/p/b/fftwfe6ad5903edd4/p/lib/libStdBackProjectors.dylib' (no such file), '/Users/kaestner/opt/anaconda3/bin/../lib/libStdBackProjectors.dylib' (no such file), '/Users/kaestner/opt/anaconda3/bin/../lib/libStdBackProjectors.dylib' (no such file)",
     "output_type": "error",
     "traceback": [
      "\u001b[0;31m---------------------------------------------------------------------------\u001b[0m",
      "\u001b[0;31mImportError\u001b[0m                               Traceback (most recent call last)",
      "\u001b[0;32m/var/folders/yk/1ljtb02j38j56cbf7zm8dlh00000gn/T/ipykernel_4428/3830065594.py\u001b[0m in \u001b[0;36m<module>\u001b[0;34m\u001b[0m\n\u001b[1;32m      2\u001b[0m \u001b[0msys\u001b[0m\u001b[0;34m.\u001b[0m\u001b[0mpath\u001b[0m\u001b[0;34m.\u001b[0m\u001b[0mappend\u001b[0m\u001b[0;34m(\u001b[0m\u001b[0;34m'/Users/kaestner/git/build-imagingsuite/Release/lib'\u001b[0m\u001b[0;34m)\u001b[0m\u001b[0;34m\u001b[0m\u001b[0;34m\u001b[0m\u001b[0m\n\u001b[1;32m      3\u001b[0m \u001b[0;34m\u001b[0m\u001b[0m\n\u001b[0;32m----> 4\u001b[0;31m \u001b[0;32mimport\u001b[0m \u001b[0mmuhrectomo\u001b[0m \u001b[0;32mas\u001b[0m \u001b[0mmt\u001b[0m\u001b[0;34m\u001b[0m\u001b[0;34m\u001b[0m\u001b[0m\n\u001b[0m\u001b[1;32m      5\u001b[0m \u001b[0;34m\u001b[0m\u001b[0m\n",
      "\u001b[0;31mImportError\u001b[0m: dlopen(/Users/kaestner/git/build-imagingsuite/Release/lib/muhrectomo.cpython-39-darwin.so, 0x0002): Library not loaded: @rpath/libStdBackProjectors.dylib\n  Referenced from: <E849F2D4-C317-366D-B787-8DC6A4643756> /Users/kaestner/git/build-imagingsuite/Release/lib/muhrectomo.cpython-39-darwin.so\n  Reason: tried: '/Users/kaestner/git/build-imagingsuite/Release/lib/../Frameworks/libStdBackProjectors.dylib' (no such file), '/Users/kaestner/git/build-imagingsuite/Release/lib/../../../lib/libStdBackProjectors.dylib' (no such file), '/Users/kaestner/git/build-imagingsuite/Release/lib/lib/libStdBackProjectors.dylib' (no such file), '/Users/kaestner/git/build-imagingsuite/Release/lib/libStdBackProjectors.dylib' (no such file), '/Users/kaestner/.conan2/p/pybin6c4510a89d30a/p/lib/libStdBackProjectors.dylib' (no such file), '/System/Volumes/Preboot/Cryptexes/OS/Users/kaestner/.conan2/p/pybin6c4510a89d30a/p/lib/libStdBackProjectors.dylib' (no such file), '/Users/kaestner/.conan2/p/b/libxmb6125ae288aa0/p/lib/libStdBackProjectors.dylib' (no such file), '/System/Volumes/Preboot/Cryptexes/OS/Users/kaestner/.conan2/p/b/libxmb6125ae288aa0/p/lib/libStdBackProjectors.dylib' (no such file), '/Users/kaestner/.conan2/p/b/libicce91bac430fa1/p/lib/libStdBackProjectors.dylib' (no such file), '/System/Volumes/Preboot/Cryptexes/OS/Users/kaestner/.conan2/p/b/libicce91bac430fa1/p/lib/libStdBackProjectors.dylib' (no such file), '/Users/kaestner/.conan2/p/b/zlibab3b77d61fd69/p/lib/libStdBackProjectors.dylib' (no such file), '/System/Volumes/Preboot/Cryptexes/OS/Users/kaestner/.conan2/p/b/zlibab3b77d61fd69/p/lib/libStdBackProjectors.dylib' (no such file), '/Users/kaestner/.conan2/p/b/libti9147cfaff8d04/p/lib/libStdBackProjectors.dylib' (no such file), '/System/Volumes/Preboot/Cryptexes/OS/Users/kaestner/.conan2/p/b/libti9147cfaff8d04/p/lib/libStdBackProjectors.dylib' (no such file), '/Users/kaestner/.conan2/p/b/libde8f35625a3a4a2/p/lib/libStdBackProjectors.dylib' (no such file), '/System/Volumes/Preboot/Cryptexes/OS/Users/kaestner/.conan2/p/b/libde8f35625a3a4a2/p/lib/libStdBackProjectors.dylib' (no such file), '/Users/kaestner/.conan2/p/b/xz_ut951443aeb046c/p/lib/libStdBackProjectors.dylib' (no such file), '/System/Volumes/Preboot/Cryptexes/OS/Users/kaestner/.conan2/p/b/xz_ut951443aeb046c/p/lib/libStdBackProjectors.dylib' (no such file), '/Users/kaestner/.conan2/p/b/libjp31743880a0723/p/lib/libStdBackProjectors.dylib' (no such file), '/System/Volumes/Preboot/Cryptexes/OS/Users/kaestner/.conan2/p/b/libjp31743880a0723/p/lib/libStdBackProjectors.dylib' (no such file), '/Users/kaestner/.conan2/p/b/jbig9d6dfeb18fd4b/p/lib/libStdBackProjectors.dylib' (no such file), '/System/Volumes/Preboot/Cryptexes/OS/Users/kaestner/.conan2/p/b/jbig9d6dfeb18fd4b/p/lib/libStdBackProjectors.dylib' (no such file), '/Users/kaestner/.conan2/p/b/zstd372bcbc6172d2/p/lib/libStdBackProjectors.dylib' (no such file), '/System/Volumes/Preboot/Cryptexes/OS/Users/kaestner/.conan2/p/b/zstd372bcbc6172d2/p/lib/libStdBackProjectors.dylib' (no such file), '/Users/kaestner/.conan2/p/b/libwe239f873bc36d3/p/lib/libStdBackProjectors.dylib' (no such file), '/System/Volumes/Preboot/Cryptexes/OS/Users/kaestner/.conan2/p/b/libwe239f873bc36d3/p/lib/libStdBackProjectors.dylib' (no such file), '/Users/kaestner/.conan2/p/b/cfitsd76dc31899c23/p/lib/libStdBackProjectors.dylib' (no such file), '/System/Volumes/Preboot/Cryptexes/OS/Users/kaestner/.conan2/p/b/cfitsd76dc31899c23/p/lib/libStdBackProjectors.dylib' (no such file), '/Users/kaestner/.conan2/p/b/openbcc66117734d8d/p/lib/libStdBackProjectors.dylib' (no such file), '/System/Volumes/Preboot/Cryptexes/OS/Users/kaestner/.conan2/p/b/openbcc66117734d8d/p/lib/libStdBackProjectors.dylib' (no such file), '/Users/kaestner/.conan2/p/b/armadab4c91a072850/p/lib/libStdBackProjectors.dylib' (no such file), '/System/Volumes/Preboot/Cryptexes/OS/Users/kaestner/.conan2/p/b/armadab4c91a072850/p/lib/libStdBackProjectors.dylib' (no such file), '/Users/kaestner/.conan2/p/b/fftwfe6ad5903edd4/p/lib/libStdBackProjectors.dylib' (no such file), '/System/Volumes/Preboot/Cryptexes/OS/Users/kaestner/.conan2/p/b/fftwfe6ad5903edd4/p/lib/libStdBackProjectors.dylib' (no such file), '/Users/kaestner/git/build-imagingsuite/Release/lib/../Frameworks/libStdBackProjectors.dylib' (no such file), '/Users/kaestner/git/build-imagingsuite/Release/lib/../../../lib/libStdBackProjectors.dylib' (no such file), '/Users/kaestner/git/build-imagingsuite/Release/lib/lib/libStdBackProjectors.dylib' (no such file), '/Users/kaestner/git/build-imagingsuite/Release/lib/libStdBackProjectors.dylib' (no such file), '/Users/kaestner/.conan2/p/pybin6c4510a89d30a/p/lib/libStdBackProjectors.dylib' (no such file), '/System/Volumes/Preboot/Cryptexes/OS/Users/kaestner/.conan2/p/pybin6c4510a89d30a/p/lib/libStdBackProjectors.dylib' (no such file), '/Users/kaestner/.conan2/p/b/libxmb6125ae288aa0/p/lib/libStdBackProjectors.dylib' (no such file), '/System/Volumes/Preboot/Cryptexes/OS/Users/kaestner/.conan2/p/b/libxmb6125ae288aa0/p/lib/libStdBackProjectors.dylib' (no such file), '/Users/kaestner/.conan2/p/b/libicce91bac430fa1/p/lib/libStdBackProjectors.dylib' (no such file), '/System/Volumes/Preboot/Cryptexes/OS/Users/kaestner/.conan2/p/b/libicce91bac430fa1/p/lib/libStdBackProjectors.dylib' (no such file), '/Users/kaestner/.conan2/p/b/zlibab3b77d61fd69/p/lib/libStdBackProjectors.dylib' (no such file), '/System/Volumes/Preboot/Cryptexes/OS/Users/kaestner/.conan2/p/b/zlibab3b77d61fd69/p/lib/libStdBackProjectors.dylib' (no such file), '/Users/kaestner/.conan2/p/b/libti9147cfaff8d04/p/lib/libStdBackProjectors.dylib' (no such file), '/System/Volumes/Preboot/Cryptexes/OS/Users/kaestner/.conan2/p/b/libti9147cfaff8d04/p/lib/libStdBackProjectors.dylib' (no such file), '/Users/kaestner/.conan2/p/b/libde8f35625a3a4a2/p/lib/libStdBackProjectors.dylib' (no such file), '/System/Volumes/Preboot/Cryptexes/OS/Users/kaestner/.conan2/p/b/libde8f35625a3a4a2/p/lib/libStdBackProjectors.dylib' (no such file), '/Users/kaestner/.conan2/p/b/xz_ut951443aeb046c/p/lib/libStdBackProjectors.dylib' (no such file), '/System/Volumes/Preboot/Cryptexes/OS/Users/kaestner/.conan2/p/b/xz_ut951443aeb046c/p/lib/libStdBackProjectors.dylib' (no such file), '/Users/kaestner/.conan2/p/b/libjp31743880a0723/p/lib/libStdBackProjectors.dylib' (no such file), '/System/Volumes/Preboot/Cryptexes/OS/Users/kaestner/.conan2/p/b/libjp31743880a0723/p/lib/libStdBackProjectors.dylib' (no such file), '/Users/kaestner/.conan2/p/b/jbig9d6dfeb18fd4b/p/lib/libStdBackProjectors.dylib' (no such file), '/System/Volumes/Preboot/Cryptexes/OS/Users/kaestner/.conan2/p/b/jbig9d6dfeb18fd4b/p/lib/libStdBackProjectors.dylib' (no such file), '/Users/kaestner/.conan2/p/b/zstd372bcbc6172d2/p/lib/libStdBackProjectors.dylib' (no such file), '/System/Volumes/Preboot/Cryptexes/OS/Users/kaestner/.conan2/p/b/zstd372bcbc6172d2/p/lib/libStdBackProjectors.dylib' (no such file), '/Users/kaestner/.conan2/p/b/libwe239f873bc36d3/p/lib/libStdBackProjectors.dylib' (no such file), '/System/Volumes/Preboot/Cryptexes/OS/Users/kaestner/.conan2/p/b/libwe239f873bc36d3/p/lib/libStdBackProjectors.dylib' (no such file), '/Users/kaestner/.conan2/p/b/cfitsd76dc31899c23/p/lib/libStdBackProjectors.dylib' (no such file), '/System/Volumes/Preboot/Cryptexes/OS/Users/kaestner/.conan2/p/b/cfitsd76dc31899c23/p/lib/libStdBackProjectors.dylib' (no such file), '/Users/kaestner/.conan2/p/b/openbcc66117734d8d/p/lib/libStdBackProjectors.dylib' (no such file), '/System/Volumes/Preboot/Cryptexes/OS/Users/kaestner/.conan2/p/b/openbcc66117734d8d/p/lib/libStdBackProjectors.dylib' (no such file), '/Users/kaestner/.conan2/p/b/armadab4c91a072850/p/lib/libStdBackProjectors.dylib' (no such file), '/System/Volumes/Preboot/Cryptexes/OS/Users/kaestner/.conan2/p/b/armadab4c91a072850/p/lib/libStdBackProjectors.dylib' (no such file), '/Users/kaestner/.conan2/p/b/fftwfe6ad5903edd4/p/lib/libStdBackProjectors.dylib' (no such file), '/System/Volumes/Preboot/Cryptexes/OS/Users/kaestner/.conan2/p/b/fftwfe6ad5903edd4/p/lib/libStdBackProjectors.dylib' (no such file), '/Users/kaestner/opt/anaconda3/bin/../lib/libStdBackProjectors.dylib' (no such file), '/Users/kaestner/opt/anaconda3/bin/../lib/libStdBackProjectors.dylib' (no such file)"
     ]
    }
   ],
   "source": [
    "import sys\n",
    "sys.path.append('/Users/kaestner/git/build-imagingsuite/Release/lib')\n",
    "\n",
    "import muhrectomo as mt\n",
    "            "
   ]
  },
  {
   "cell_type": "code",
   "execution_count": 17,
   "id": "97a0a811-bbb5-48b7-8681-76ac2bdc0d81",
   "metadata": {},
   "outputs": [
    {
     "name": "stdout",
     "output_type": "stream",
     "text": [
      "         Current function value: -0.195826\n",
      "         Iterations: 1\n",
      "         Function evaluations: 90\n",
      "         Gradient evaluations: 20\n",
      "Optimized Parameters:\n",
      "SDD: 1499.9999910272388\n",
      "SOD: 1000.00001770296\n",
      "Vertical Piercing Point: 1.111844011758008e-05\n"
     ]
    },
    {
     "name": "stderr",
     "output_type": "stream",
     "text": [
      "/Users/kaestner/opt/anaconda3/lib/python3.9/site-packages/scipy/optimize/_minimize.py:703: OptimizeWarning: Desired error not necessarily achieved due to precision loss.\n",
      "  res = _minimize_cg(fun, x0, args, jac, callback, **options)\n"
     ]
    }
   ],
   "source": [
    "def reconstruct_slice(SDD, SOD, piercing_point, geometry_params):\n",
    "    \"\"\"\n",
    "    Mock function to reconstruct a slice given the geometry parameters.\n",
    "    Replace this with actual reconstruction code.\n",
    "    \"\"\"\n",
    "    # Placeholder for reconstruction logic\n",
    "    # geometry_params should include detector info, pixel pitch, etc.\n",
    "    reconstructed_slice = np.random.rand(256, 256)  # Dummy 2D image\n",
    "    return reconstructed_slice\n",
    "\n",
    "def compute_metrics(reconstructed_slice):\n",
    "    \"\"\"\n",
    "    Compute variance, entropy, total variation, and gradient magnitude.\n",
    "    \"\"\"\n",
    "    # Variance\n",
    "    variance = np.var(reconstructed_slice)\n",
    "    \n",
    "    # Entropy\n",
    "    # ent = entropy(exposure.rescale_intensity(reconstructed_slice), disk(3))\n",
    "    # mean_entropy = np.mean(ent)\n",
    "    \n",
    "    # Total Variation (TV)\n",
    "    # tv = denoise_tv_chambolle(reconstructed_slice, weight=0.1, multichannel=False)\n",
    "    # total_variation = np.sum(np.abs(reconstructed_slice - tv))\n",
    "    \n",
    "    # Gradient Magnitude (sharpness)\n",
    "    gradient_magnitude = np.mean(np.abs(sobel(reconstructed_slice)))\n",
    "    \n",
    "    # return variance, mean_entropy, total_variation, gradient_magnitude\n",
    "    return variance, gradient_magnitude\n",
    "\n",
    "def cost_function(params, geometry_params):\n",
    "    \"\"\"\n",
    "    Cost function for optimization.\n",
    "    Combines variance, entropy, total variation, and gradient magnitude with weights.\n",
    "    \"\"\"\n",
    "    SDD, SOD, piercing_point = params\n",
    "    reconstructed_slice = reconstruct_slice(SDD, SOD, piercing_point, geometry_params)\n",
    "    # variance, ent, total_variation, gradient_magnitude = compute_metrics(reconstructed_slice)\n",
    "    variance, gradient_magnitude = compute_metrics(reconstructed_slice)\n",
    "    \n",
    "    # Combine metrics into a single cost\n",
    "    # Adjust weights to emphasize the importance of each metric\n",
    "    weight_variance = 1.0\n",
    "    weight_entropy = 1.0\n",
    "    weight_tv = 0.5\n",
    "    weight_gradient = 0.5\n",
    "\n",
    "    cost = (\n",
    "        - weight_variance * variance  # Maximize variance\n",
    "        - weight_gradient * gradient_magnitude  # Maximize sharpness\n",
    "    )\n",
    "    # cost = (\n",
    "    #     -weight_variance * variance  # Maximize variance\n",
    "    #     + weight_entropy * ent       # Minimize entropy\n",
    "    #     + weight_tv * total_variation  # Minimize total variation (reduce noise)\n",
    "    #     - weight_gradient * gradient_magnitude  # Maximize sharpness\n",
    "    # )\n",
    "    return cost\n",
    "\n",
    "def optimize_geometry(initial_guess, geometry_params):\n",
    "    \"\"\"\n",
    "    Perform optimization using the conjugate gradient method.\n",
    "    \"\"\"\n",
    "    result = minimize(\n",
    "        fun=cost_function,\n",
    "        x0=initial_guess,\n",
    "        args=(geometry_params,),\n",
    "        method='CG',\n",
    "        options={'disp': True}\n",
    "    )\n",
    "    return result\n",
    "\n",
    "# Known inputs\n",
    "geometry_params = {\n",
    "    \"detector_pixel_pitch\": 0.1,  # Example value in mm\n",
    "    \"magnification\": 2.0,\n",
    "    \"max_cone_angle\": 40,  # degrees\n",
    "    \"max_SDD\": 2000.0,  # Example value in mm\n",
    "    \"center_of_rotation\": 128.0,  # Example value in pixel units\n",
    "}\n",
    "\n",
    "# Initial guesses for SDD, SOD, and piercing_point\n",
    "initial_guess = [1500.0, 1000.0, 0.0]  # Example initial values\n",
    "\n",
    "# Run optimization\n",
    "result = optimize_geometry(initial_guess, geometry_params)\n",
    "\n",
    "# Optimized parameters\n",
    "print(\"Optimized Parameters:\")\n",
    "print(\"SDD:\", result.x[0])\n",
    "print(\"SOD:\", result.x[1])\n",
    "print(\"Vertical Piercing Point:\", result.x[2])"
   ]
  },
  {
   "cell_type": "code",
   "execution_count": null,
   "id": "8abe6154-6bef-4975-8d37-4264bbf76e33",
   "metadata": {},
   "outputs": [],
   "source": []
  }
 ],
 "metadata": {
  "kernelspec": {
   "display_name": "Python 3 (ipykernel)",
   "language": "python",
   "name": "python3"
  },
  "language_info": {
   "codemirror_mode": {
    "name": "ipython",
    "version": 3
   },
   "file_extension": ".py",
   "mimetype": "text/x-python",
   "name": "python",
   "nbconvert_exporter": "python",
   "pygments_lexer": "ipython3",
   "version": "3.9.18"
  }
 },
 "nbformat": 4,
 "nbformat_minor": 5
}
